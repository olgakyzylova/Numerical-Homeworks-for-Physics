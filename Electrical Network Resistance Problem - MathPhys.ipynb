{
 "cells": [
  {
   "cell_type": "markdown",
   "id": "1d62a941-91cd-4dd1-91df-c0ab2fc00432",
   "metadata": {
    "tags": []
   },
   "source": [
    "# 🔌 Electrical Network Resistance Problem\n",
    "\n",
    "An electrical network consists of $N$ interconnected nodes. Each pair of nodes $(i, j)$ is connected by a resistor of resistance $ R_{ij} = \\min(i, j) + 2\\max(i, j)$, for $i, j = 1, \\ldots, N$. Let $V_i$ be the electrical potential of node $i$, and choose the zero level of potential to set $V_1 = 0$. Then Kirchhoff’s laws for the other nodes in the network can be conveniently written as\n",
    "\n",
    "$$\\sum_{j=1, \\, j \\neq i}^{N} \\frac{V_j - V_i}{R_{ij}} = I_i,$$\n",
    "\n",
    "for $i = 2, \\ldots, N$, where $I_i$ is the current flowing from node $i$ to some external circuit. Suppose $N = 100$, and the external connection is such that current flows out of node 2 and back into node 1, so $I_1 = -1$, $I_2 = 1$, and $I_i = 0$ for $i > 2$. By solving the above $(N-1)$-dimensional matrix equation (e.g. using the $Numerical Recipes$ routine `gaussj` or `solve` in Python (`numpy.linalg.solve`), or `linsolve` in Matlab), calculate the total resistance between nodes 1 and 2."
   ]
  },
  {
   "cell_type": "code",
   "execution_count": 5,
   "id": "4be4e18e-f62b-4399-beba-0cb2d71e7d0f",
   "metadata": {
    "tags": []
   },
   "outputs": [
    {
     "name": "stdout",
     "output_type": "stream",
     "text": [
      "-0.9442396602622615\n"
     ]
    }
   ],
   "source": [
    "from math import *\n",
    "from scipy import *\n",
    "from numpy import *\n",
    "\n",
    "N = 100\n",
    "A = zeros((N-1)*(N-1)).reshape(N-1, N-1)\n",
    "b = array(zeros(N-1))\n",
    "b[0] = 1\n",
    "\n",
    "row = 0\n",
    "while row < N-1:\n",
    "    col = 0\n",
    "    while col < N-1:\n",
    "        if col == row:\n",
    "            A[row][col] = 0.0\n",
    "        else:\n",
    "            A[row][col] = 1.0/(min(row+2, col+2)+2*max(row+2, col+2))\n",
    "        col = col +1\n",
    "    row = row +1\n",
    "   \n",
    "row = 0\n",
    "while row < N-1:\n",
    "    k = 0\n",
    "    while k < N:\n",
    "        A[row][row] = A[row][row] - 1.0/(min(row+2, k+1)+2*max(row+2, k+1))\n",
    "        k = k+1\n",
    "    A[row][row] = A[row][row] + 1.0/(min(row+2, row+2)+2*max(row+2, row+2))\n",
    "    row = row + 1\n",
    "    \n",
    "from scipy.linalg import solve\n",
    "v = solve(A, b)\n",
    "print(v[0])"
   ]
  }
 ],
 "metadata": {
  "kernelspec": {
   "display_name": "Python 3 (ipykernel)",
   "language": "python",
   "name": "python3"
  },
  "language_info": {
   "codemirror_mode": {
    "name": "ipython",
    "version": 3
   },
   "file_extension": ".py",
   "mimetype": "text/x-python",
   "name": "python",
   "nbconvert_exporter": "python",
   "pygments_lexer": "ipython3",
   "version": "3.11.7"
  }
 },
 "nbformat": 4,
 "nbformat_minor": 5
}
