{
 "cells": [
  {
   "cell_type": "markdown",
   "id": "2f528f4b-3eda-413c-8b65-efaf8fe4aebf",
   "metadata": {
    "tags": []
   },
   "source": [
    "# 📊 Least-Square Fit to the Data by Polynomials\n",
    "\n",
    "The data file [http://www.physics.drexel.edu/students/courses/physics-501/hw2.2.dat](http://www.physics.drexel.edu/students/courses/physics-501/hw2.2.dat) on the course Web page contains (hypothetical) experimental data on the measurement of a function $y(x)$. The $N$ data points are arranged, one measurement per line, in the format\n",
    "\n",
    "$x_i \\quad y_i \\text{ (measured)} \\quad \\sigma_i$\n",
    "\n",
    "where $\\sigma_i$ is an estimate of the uncertainty in the $i$-th measurement. It is desired to find the least-square fit to the data by polynomials of the form:\n",
    "\n",
    "$$y(x) = \\sum_{j=1}^{m} a_j x^{j-1},$$\n",
    "\n",
    "for specified values of $m$, by minimizing the quantity\n",
    "\n",
    "$$\\chi^2 = \\sum_{i=1}^{N} \\left( \\frac{y_i - \\sum_{j=1}^{m} a_j x_i^{j-1}}{\\sigma_i} \\right)^2.$$\n",
    "\n",
    "As discussed in class (and in *Numerical Recipes*, pp. 671–676), write down the overdetermined design matrix equation that results from writing $y(x_i) = y_i$,\n",
    "\n",
    "$$A \\mathbf{a} = \\mathbf{b}$$\n",
    "\n",
    "where $A_{ij} = \\frac{x_i^{j-1}}{\\sigma_i}$, $b_i = \\frac{y_i}{\\sigma_i}$ (so the measurement uncertainties are included in each row), and $a$ is the vector of unknown coefficients. Solve this system using singular value decomposition (svdcmp in Numerical Recipes, svd in Python or Matlab) to obtain the best fitting polynomial for each of the cases $m = 2, 4, 7,$ and $13$. \n",
    "For each $m$, give the values of $a_j$ and $\\chi^2$, and plot the data and the best fit on a single graph."
   ]
  },
  {
   "cell_type": "code",
   "execution_count": 15,
   "id": "df7c31ac-9653-4e7f-9119-7cd15147b1ab",
   "metadata": {
    "tags": []
   },
   "outputs": [
    {
     "ename": "FileNotFoundError",
     "evalue": "[Errno 2] No such file or directory: 'hw2.2.dat'",
     "output_type": "error",
     "traceback": [
      "\u001b[1;31m---------------------------------------------------------------------------\u001b[0m",
      "\u001b[1;31mFileNotFoundError\u001b[0m                         Traceback (most recent call last)",
      "Cell \u001b[1;32mIn[15], line 6\u001b[0m\n\u001b[0;32m      3\u001b[0m \u001b[38;5;28;01mfrom\u001b[39;00m \u001b[38;5;21;01mscipy\u001b[39;00m \u001b[38;5;28;01mimport\u001b[39;00m \u001b[38;5;241m*\u001b[39m\n\u001b[0;32m      5\u001b[0m \u001b[38;5;66;03m#Reading data from .dat file\u001b[39;00m\n\u001b[1;32m----> 6\u001b[0m infile \u001b[38;5;241m=\u001b[39m \u001b[38;5;28mopen\u001b[39m(\u001b[38;5;124m'\u001b[39m\u001b[38;5;124mhw2.2.dat\u001b[39m\u001b[38;5;124m'\u001b[39m, \u001b[38;5;124m'\u001b[39m\u001b[38;5;124mr\u001b[39m\u001b[38;5;124m'\u001b[39m)\n\u001b[0;32m      7\u001b[0m l \u001b[38;5;241m=\u001b[39m [lines \u001b[38;5;28;01mfor\u001b[39;00m lines \u001b[38;5;129;01min\u001b[39;00m infile\u001b[38;5;241m.\u001b[39mreadlines()]\n\u001b[0;32m      8\u001b[0m N \u001b[38;5;241m=\u001b[39m \u001b[38;5;28mlen\u001b[39m(l)\n",
      "File \u001b[1;32mC:\\ProgramData\\anaconda3\\Lib\\site-packages\\IPython\\core\\interactiveshell.py:310\u001b[0m, in \u001b[0;36m_modified_open\u001b[1;34m(file, *args, **kwargs)\u001b[0m\n\u001b[0;32m    303\u001b[0m \u001b[38;5;28;01mif\u001b[39;00m file \u001b[38;5;129;01min\u001b[39;00m {\u001b[38;5;241m0\u001b[39m, \u001b[38;5;241m1\u001b[39m, \u001b[38;5;241m2\u001b[39m}:\n\u001b[0;32m    304\u001b[0m     \u001b[38;5;28;01mraise\u001b[39;00m \u001b[38;5;167;01mValueError\u001b[39;00m(\n\u001b[0;32m    305\u001b[0m         \u001b[38;5;124mf\u001b[39m\u001b[38;5;124m\"\u001b[39m\u001b[38;5;124mIPython won\u001b[39m\u001b[38;5;124m'\u001b[39m\u001b[38;5;124mt let you open fd=\u001b[39m\u001b[38;5;132;01m{\u001b[39;00mfile\u001b[38;5;132;01m}\u001b[39;00m\u001b[38;5;124m by default \u001b[39m\u001b[38;5;124m\"\u001b[39m\n\u001b[0;32m    306\u001b[0m         \u001b[38;5;124m\"\u001b[39m\u001b[38;5;124mas it is likely to crash IPython. If you know what you are doing, \u001b[39m\u001b[38;5;124m\"\u001b[39m\n\u001b[0;32m    307\u001b[0m         \u001b[38;5;124m\"\u001b[39m\u001b[38;5;124myou can use builtins\u001b[39m\u001b[38;5;124m'\u001b[39m\u001b[38;5;124m open.\u001b[39m\u001b[38;5;124m\"\u001b[39m\n\u001b[0;32m    308\u001b[0m     )\n\u001b[1;32m--> 310\u001b[0m \u001b[38;5;28;01mreturn\u001b[39;00m io_open(file, \u001b[38;5;241m*\u001b[39margs, \u001b[38;5;241m*\u001b[39m\u001b[38;5;241m*\u001b[39mkwargs)\n",
      "\u001b[1;31mFileNotFoundError\u001b[0m: [Errno 2] No such file or directory: 'hw2.2.dat'"
     ]
    }
   ],
   "source": [
    "from math import *\n",
    "from numpy import *\n",
    "from scipy import *\n",
    "\n",
    "#Reading data from .dat file\n",
    "infile = open('hw2.2.dat', 'r')\n",
    "l = [lines for lines in infile.readlines()]\n",
    "N = len(l)\n",
    "k = 0\n",
    "x = zeros(N)\n",
    "y = zeros(N)\n",
    "sigma = zeros(N)\n",
    "for line in l:\n",
    "    i = line.split()\n",
    "    x[k] = i[0]\n",
    "    y[k] = i[1]\n",
    "    sigma[k] = i[2]\n",
    "    k = k + 1\n",
    "    \n",
    "m = 13\n",
    "A = zeros(N*m).reshape(N, m)\n",
    "b = zeros(N)\n",
    "\n",
    "#Defining design matrix A and target vector b\n",
    "row = 0\n",
    "while row < N:\n",
    "    b[row] = y[row]/sigma[row]\n",
    "    col = 0\n",
    "    while col < m:\n",
    "        A[row][col] = x[row]**(col+1-1)/sigma[row]\n",
    "        col = col + 1\n",
    "    row - row + 1\n",
    "    \n",
    "#Singular Value Decomposition\n",
    "U, s, V = linalg.svd(A, full_matrices=False)\n",
    "\n",
    "G = dot(U.T, b)\n",
    "H = dot(diag(1/s), G)\n",
    "astar = dot(V.T, H)\n",
    "\n",
    "#Defining chi^2\n",
    "D = dot(A, astar)\n",
    "xsqrd = 0\n",
    "k = 0\n",
    "while k < N:\n",
    "    xsqrd = xsqrd + (b[k]-D[k])**2\n",
    "    k = k + 1\n",
    "print(astar)\n",
    "print(xsqrd)\n",
    "\n",
    "#F-matrix that is similar to A but without 1/sigma_i\n",
    "F = zeros(N*m).reshape(N, m)\n",
    "row = 0\n",
    "while row < N:\n",
    "    col = 0\n",
    "    while col < m:\n",
    "        F[row][col] = x[row]**(col+1-1)\n",
    "        col = col + 1\n",
    "    row = row + 1\n",
    "    \n",
    "from matplotlib.pyplot import *\n",
    "\n",
    "M = dot(F, astar)\n",
    "xM = x\n",
    "plot(xM, M, 'ro')\n",
    "plot(x, y, '*')\n",
    "show()"
   ]
  }
 ],
 "metadata": {
  "kernelspec": {
   "display_name": "Python 3 (ipykernel)",
   "language": "python",
   "name": "python3"
  },
  "language_info": {
   "codemirror_mode": {
    "name": "ipython",
    "version": 3
   },
   "file_extension": ".py",
   "mimetype": "text/x-python",
   "name": "python",
   "nbconvert_exporter": "python",
   "pygments_lexer": "ipython3",
   "version": "3.11.7"
  }
 },
 "nbformat": 4,
 "nbformat_minor": 5
}
